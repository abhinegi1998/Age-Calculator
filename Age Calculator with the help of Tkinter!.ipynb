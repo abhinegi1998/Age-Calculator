{
 "cells": [
  {
   "cell_type": "code",
   "execution_count": null,
   "metadata": {},
   "outputs": [],
   "source": [
    "from tkinter import *\n",
    "import datetime\n",
    "\n",
    "win = Tk()\n",
    "win.title(\"Age Calculator\")\n",
    "win.geometry(\"350x180\")\n",
    "win.configure(bg=\"orange\")\n",
    "\n",
    "name = Label(text=\"Name\",font=\"lucida 15 bold\", padx=14)\n",
    "name.grid(row=1, column=0)\n",
    "n_entry = Entry(bd=5)\n",
    "n_entry.grid(row=1, column=1)\n",
    "\n",
    "year = Label(text=\"Year\", font=\"lucida 15 bold\", padx=19)\n",
    "year.grid(row=2, column=0)\n",
    "y_entry = Entry(bd=5)\n",
    "y_entry.grid(row=2, column=1)\n",
    "\n",
    "month = Label(text=\"Month\", font=\"lucida 15 bold\", padx=10)\n",
    "month.grid(row=3, column=0)\n",
    "m_entry = Entry(bd=5)\n",
    "m_entry.grid(row=3, column=1)\n",
    "\n",
    "date = Label(text=\"Day\", font=\"lucida 15 bold\", padx=22)\n",
    "date.grid(row=4, column=0)\n",
    "d_entry = Entry(bd=5)\n",
    "d_entry.grid(row=4, column=1)\n",
    "\n",
    "def getInput():\n",
    "    name = n_entry.get()\n",
    "    ABC = Person(name,datetime.date(int(y_entry.get()),int(m_entry.get()),int(d_entry.get())))\n",
    "\n",
    "    textArea = Text(master=win,height=10, width=25)\n",
    "    textArea.grid(row=6, column=1)\n",
    "\n",
    "    answer = \"Hey {ABC}!!!. You are {age} years old!!!\".format(ABC=name, age=ABC.age())\n",
    "    textArea.insert(END,answer)\n",
    "\n",
    "but = Button(win, text=\"Age Calculate\", command=getInput, bg=\"green\")\n",
    "but.grid(row=5, column=1)\n",
    "\n",
    "class Person:\n",
    "    def __init__(self,name,birthdate):\n",
    "        self.name = name\n",
    "        self.birthdate =birthdate\n",
    "\n",
    "    def age(self):\n",
    "        today=datetime.date.today()\n",
    "        age = today.year - self.birthdate.year\n",
    "        return age\n",
    "\n",
    "win.mainloop()"
   ]
  },
  {
   "cell_type": "code",
   "execution_count": null,
   "metadata": {},
   "outputs": [],
   "source": []
  }
 ],
 "metadata": {
  "kernelspec": {
   "display_name": "Python 3",
   "language": "python",
   "name": "python3"
  },
  "language_info": {
   "codemirror_mode": {
    "name": "ipython",
    "version": 3
   },
   "file_extension": ".py",
   "mimetype": "text/x-python",
   "name": "python",
   "nbconvert_exporter": "python",
   "pygments_lexer": "ipython3",
   "version": "3.8.3"
  }
 },
 "nbformat": 4,
 "nbformat_minor": 4
}
